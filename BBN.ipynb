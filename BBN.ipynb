{
 "cells": [
  {
   "cell_type": "code",
   "execution_count": 2,
   "metadata": {},
   "outputs": [
    {
     "name": "stdout",
     "output_type": "stream",
     "text": [
      "Few Examples of the dataset are given below\n",
      "   age  sex  cp  trestbps  chol  fbs  restecg  thalach  exang  oldpeak  slope  \\\n",
      "0   63    1   1       145   233    1        2      150      0      2.3      3   \n",
      "1   67    1   4       160   286    0        2      108      1      1.5      2   \n",
      "2   67    1   4       120   229    0        2      129      1      2.6      2   \n",
      "3   37    1   3       130   250    0        0      187      0      3.5      3   \n",
      "4   41    0   2       130   204    0        2      172      0      1.4      1   \n",
      "\n",
      "  ca thal  heartdisease  \n",
      "0  0    6             0  \n",
      "1  3    3             2  \n",
      "2  2    7             1  \n",
      "3  0    3             0  \n",
      "4  0    3             0  \n",
      "\\Learning CPDs using Maximum Likelihood Estimators\n",
      "Inferencing with Bayesian Network\n",
      "\n",
      " Probability of heard disease given age=30\n"
     ]
    },
    {
     "name": "stderr",
     "output_type": "stream",
     "text": [
      "C:\\Users\\suman\\anaconda3\\lib\\site-packages\\pgmpy\\factors\\discrete\\DiscreteFactor.py:439: UserWarning: Found unknown state name. Trying to switch to using all state names as state numbers\n",
      "  \"Found unknown state name. Trying to switch to using all state names as state numbers\"\n",
      "Finding Elimination Order: : 100%|██████████| 7/7 [00:00<00:00, 1750.65it/s]\n",
      "Eliminating: sex: 100%|██████████| 7/7 [00:00<00:00, 184.32it/s]\n",
      "Finding Elimination Order: : 100%|██████████| 8/8 [00:00<00:00, 2000.74it/s]\n",
      "Eliminating: sex: 100%|██████████| 8/8 [00:00<00:00, 123.15it/s]\n"
     ]
    },
    {
     "name": "stdout",
     "output_type": "stream",
     "text": [
      "+-----------------+---------------------+\n",
      "| heartdisease    |   phi(heartdisease) |\n",
      "+=================+=====================+\n",
      "| heartdisease(0) |              0.5932 |\n",
      "+-----------------+---------------------+\n",
      "| heartdisease(1) |              0.1714 |\n",
      "+-----------------+---------------------+\n",
      "| heartdisease(2) |              0.0811 |\n",
      "+-----------------+---------------------+\n",
      "| heartdisease(3) |              0.1138 |\n",
      "+-----------------+---------------------+\n",
      "| heartdisease(4) |              0.0405 |\n",
      "+-----------------+---------------------+\n",
      "\n",
      " 2. Probability of HeartDisease given cholesterol=100\n",
      "+-----------------+---------------------+\n",
      "| heartdisease    |   phi(heartdisease) |\n",
      "+=================+=====================+\n",
      "| heartdisease(0) |              0.5257 |\n",
      "+-----------------+---------------------+\n",
      "| heartdisease(1) |              0.1919 |\n",
      "+-----------------+---------------------+\n",
      "| heartdisease(2) |              0.1145 |\n",
      "+-----------------+---------------------+\n",
      "| heartdisease(3) |              0.1166 |\n",
      "+-----------------+---------------------+\n",
      "| heartdisease(4) |              0.0514 |\n",
      "+-----------------+---------------------+\n"
     ]
    }
   ],
   "source": [
    "import numpy as np\n",
    "import csv\n",
    "import pandas as pd\n",
    "from pgmpy.models import BayesianModel\n",
    "from pgmpy.estimators import MaximumLikelihoodEstimator\n",
    "from pgmpy.inference import VariableElimination\n",
    "\n",
    "#warnings.filterwarnings('ignore')\n",
    "#read Cleveland Heart Disease data\n",
    "heart_disease=pd.read_csv('heart.csv')\n",
    "heart_disease= heart_disease.replace('?',np.nan)\n",
    "print('Few Examples of the dataset are given below')\n",
    "print(heart_disease.head())\n",
    "model=BayesianModel([('age','trestbps'),('age','fbs'),('sex','trestbps'),('exang','trestbps'),('trestbps','heartdisease'),('fbs','heartdisease'),('heartdisease','restecg'),('heartdisease','thalach'),('heartdisease','chol')])\n",
    "print('\\Learning CPDs using Maximum Likelihood Estimators')\n",
    "model.fit(heart_disease,estimator=MaximumLikelihoodEstimator)\n",
    "print('Inferencing with Bayesian Network')\n",
    "HeartDisease_infer=VariableElimination(model)\n",
    "print('\\n Probability of heard disease given age=30')\n",
    "q=HeartDisease_infer.query(variables=['heartdisease'],evidence\n",
    "={'age':28})\n",
    "print(q)\n",
    "print('\\n 2. Probability of HeartDisease given cholesterol=100')\n",
    "q=HeartDisease_infer.query(variables=['heartdisease'])\n",
    "print(q)\n"
   ]
  },
  {
   "cell_type": "code",
   "execution_count": null,
   "metadata": {},
   "outputs": [],
   "source": []
  }
 ],
 "metadata": {
  "kernelspec": {
   "display_name": "Python 3",
   "language": "python",
   "name": "python3"
  },
  "language_info": {
   "codemirror_mode": {
    "name": "ipython",
    "version": 3
   },
   "file_extension": ".py",
   "mimetype": "text/x-python",
   "name": "python",
   "nbconvert_exporter": "python",
   "pygments_lexer": "ipython3",
   "version": "3.7.6"
  }
 },
 "nbformat": 4,
 "nbformat_minor": 4
}
