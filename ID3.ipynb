{
 "cells": [
  {
   "cell_type": "code",
   "execution_count": 7,
   "metadata": {},
   "outputs": [
    {
     "name": "stdout",
     "output_type": "stream",
     "text": [
      "     outlook temperature humidity   wind class\n",
      "0      Sunny         Hot     High  False    No\n",
      "1      Sunny         Hot     High   True    No\n",
      "2   Overcast         Hot     High  False   Yes\n",
      "3      Rainy        Mild     High  False   Yes\n",
      "4      Rainy        Cool   Normal  False   Yes\n",
      "5      Rainy        Cool   Normal   True    No\n",
      "6   Overcast        Cool   Normal   True   Yes\n",
      "7      Sunny        Mild     High  False    No\n",
      "8      Sunny        Cool   Normal  False   Yes\n",
      "9      Rainy        Mild   Normal  False   Yes\n",
      "10     Sunny        Mild   Normal   True   Yes\n",
      "11  Overcast        Mild     High   True   Yes\n",
      "12  Overcast         Hot   Normal  False   Yes\n",
      "13     Rainy        Mild     High   True    No\n",
      "0.24674981977443933 outlook\n",
      "0.02922256565895487 temperature\n",
      "0.15183550136234159 humidity\n",
      "0.04812703040826949 wind\n",
      "\n",
      "\n",
      "0.01997309402197489 temperature\n",
      "0.01997309402197489 humidity\n",
      "0.9709505944546686 wind\n",
      "\n",
      "\n",
      "0.5709505944546686 temperature\n",
      "0.9709505944546686 humidity\n",
      "0.01997309402197489 wind\n",
      "\n",
      "\n",
      "\n",
      "Display Tree\n",
      " {'outlook': {'Overcast': 'Yes', 'Rainy': {'wind': {0.0: 'Yes', 1.0: 'No'}}, 'Sunny': {'humidity': {'High': 'No', 'Normal': 'Yes'}}}}\n"
     ]
    }
   ],
   "source": [
    "import pandas as pd\n",
    "import numpy as np\n",
    "dataset = pd.read_csv('tennis.csv')\n",
    "dataset.columns=['outlook','temperature','humidity','wind','class']\n",
    "print(dataset)\n",
    "def entropy(target_col):\n",
    "    elements,counts=np.unique(target_col,return_counts=True)\n",
    "    #print(elements)\n",
    "    #print(counts)\n",
    "    entropy = np.sum([(-counts[i]/np.sum(counts))*np.log2(counts[i]/np.sum(counts)) for i in range(len(elements))])\n",
    "    #print(entropy)\n",
    "    \n",
    "    return entropy\n",
    "def InfoGain(data,split_attribute_name,target_name=\"class\"):\n",
    "    total_entropy = entropy(data[target_name])\n",
    "    vals,counts = np.unique(data[split_attribute_name],return_counts=True)\n",
    "    weighted_entropy = np.sum([(counts[i]/np.sum(counts))*entropy(data.where(data[split_attribute_name]==vals[i]).dropna()\n",
    "                                                                 [target_name]) for i in range(len(vals))])\n",
    "    information_gain = total_entropy-weighted_entropy\n",
    "    return information_gain\n",
    "def ID3(data,originaldata,features,target_attribute_name=\"class\",parent_node_class=None):\n",
    "    if len(np.unique(data[target_attribute_name]))<=1:\n",
    "        return np.unique(data[target_attribute_name])[0]\n",
    "    elif len(data)==0:\n",
    "        return np.unique(originaldata[target_attribute_name])[np.argmax(np.unique(originaldata[target_attribute_name],return_counts=True)[1])]\n",
    "    elif len(features)==0:\n",
    "        return parent_node_class\n",
    "    else:\n",
    "        parent_node_class = np.unique(data[target_attribute_name])\n",
    "        [np.argmax(np.unique(data[target_attribute_name],return_counts=True)[1])]\n",
    "        item_values=[InfoGain(data,feature,target_attribute_name) for feature in features]\n",
    "        for i in range(len(item_values)):\n",
    "            print(item_values[i],features[i])\n",
    "        print('\\n')\n",
    "        best_feature_index = np.argmax(item_values)\n",
    "        best_feature = features[best_feature_index]\n",
    "        tree = {best_feature:{}}\n",
    "        features = [i for i in features if i!=best_feature]\n",
    "        #print(features)\n",
    "        for value in np.unique(data[best_feature]):\n",
    "            sub_data = data.where(data[best_feature]==value).dropna()\n",
    "            subtree = ID3(sub_data,dataset,features,target_attribute_name,parent_node_class)\n",
    "            tree[best_feature][value]=subtree\n",
    "        return(tree)\n",
    "tree = ID3(dataset,dataset,dataset.columns[:-1])\n",
    "print('\\nDisplay Tree\\n',tree)\n",
    "        \n",
    "    \n"
   ]
  },
  {
   "cell_type": "code",
   "execution_count": null,
   "metadata": {},
   "outputs": [],
   "source": []
  }
 ],
 "metadata": {
  "kernelspec": {
   "display_name": "Python 3",
   "language": "python",
   "name": "python3"
  },
  "language_info": {
   "codemirror_mode": {
    "name": "ipython",
    "version": 3
   },
   "file_extension": ".py",
   "mimetype": "text/x-python",
   "name": "python",
   "nbconvert_exporter": "python",
   "pygments_lexer": "ipython3",
   "version": "3.7.6"
  }
 },
 "nbformat": 4,
 "nbformat_minor": 4
}
